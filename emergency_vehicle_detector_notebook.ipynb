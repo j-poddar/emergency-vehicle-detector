{
 "cells": [
  {
   "cell_type": "markdown",
   "id": "8e84e704-7f24-4f9f-be3e-83dfa2fbd6ad",
   "metadata": {},
   "source": [
    "# Emergency Vehicle Detector"
   ]
  },
  {
   "cell_type": "markdown",
   "id": "e8217c30-474c-45cc-9ca7-bb3cc3be112c",
   "metadata": {},
   "source": [
    "## Project done by : Jaitashri Poddar"
   ]
  },
  {
   "cell_type": "markdown",
   "id": "10e85a2d-6ccd-4513-94de-e5ab0192e4d2",
   "metadata": {},
   "source": [
    "# Project Description"
   ]
  },
  {
   "cell_type": "markdown",
   "id": "3d2089b5-cb75-4a45-bac2-300b99d3cb63",
   "metadata": {},
   "source": [
    "Fatalities due to traffic delays of emergency vehicles such as ambulance & fire brigade is a huge problem. In daily life, we often see that emergency vehicles face difficulty in passing through traffic. So differentiating a vehicle into an emergency and non emergency category can be an important component in traffic monitoring as well as self drive car systems as reaching on time to their destination is critical for these services. <br> <br>\n",
    "In this project, the created deep learning based model classifies vehicle images as either emergency or non-emergency. Emergency vehicles typically include police cars, ambulances, and fire brigades. "
   ]
  },
  {
   "cell_type": "markdown",
   "id": "f475eb3f-cdd8-4ed4-9453-4a202a649948",
   "metadata": {},
   "source": [
    "# Data Description"
   ]
  },
  {
   "cell_type": "markdown",
   "id": "fcc13c36-470e-497e-88cc-d4fb76003dc3",
   "metadata": {},
   "source": [
    "The training and testing datasets have been taken from [Kaggle](https://www.kaggle.com/datasets/abhisheksinghblr/emergency-vehicles-identification). <br>\n",
    "**train.zip:** contains 2 csvs and 1 folder containing image data <br>\n",
    "**train.csv** – [‘image_names’, ‘emergency_or_not’] contains the image name and correct class for 1646 (70%) train images <br>\n",
    "**images** – contains 2352 images for both train and test sets <br>\n",
    "**test.csv:** [‘image_names’] contains just the image names for the 706 (30%) test images"
   ]
  },
  {
   "cell_type": "markdown",
   "id": "a40770b8-7f12-4cb2-9a8d-9d8c36427f24",
   "metadata": {},
   "source": [
    "# 1. Importing Libraries and Setting Options"
   ]
  },
  {
   "cell_type": "markdown",
   "id": "2da74d86-3cae-4cef-967b-c9f3d003ed21",
   "metadata": {},
   "source": [
    "## 1.1 Importing Necessary LIbraries"
   ]
  },
  {
   "cell_type": "code",
   "execution_count": 1,
   "id": "06ac8fdc-c21d-4186-8e9b-b164d27960c8",
   "metadata": {},
   "outputs": [
    {
     "name": "stdout",
     "output_type": "stream",
     "text": [
      "Intel MKL WARNING: Support of Intel(R) Streaming SIMD Extensions 4.2 (Intel(R) SSE4.2) enabled only processors has been deprecated. Intel oneAPI Math Kernel Library 2025.0 will require Intel(R) Advanced Vector Extensions (Intel(R) AVX) instructions.\n",
      "Intel MKL WARNING: Support of Intel(R) Streaming SIMD Extensions 4.2 (Intel(R) SSE4.2) enabled only processors has been deprecated. Intel oneAPI Math Kernel Library 2025.0 will require Intel(R) Advanced Vector Extensions (Intel(R) AVX) instructions.\n"
     ]
    },
    {
     "name": "stderr",
     "output_type": "stream",
     "text": [
      "2024-07-11 23:55:48.246105: I tensorflow/core/platform/cpu_feature_guard.cc:193] This TensorFlow binary is optimized with oneAPI Deep Neural Network Library (oneDNN) to use the following CPU instructions in performance-critical operations:  SSE4.1 SSE4.2\n",
      "To enable them in other operations, rebuild TensorFlow with the appropriate compiler flags.\n"
     ]
    }
   ],
   "source": [
    "# suppress display of warnings\n",
    "import warnings\n",
    "warnings.filterwarnings(\"ignore\")\n",
    "\n",
    "# Importing the NumPy library for numerical operations\n",
    "import numpy as np\n",
    "\n",
    "# Importing the Pandas library for data manipulation and analysis\n",
    "import pandas as pd\n",
    "\n",
    "# Importing the Matplotlib library for plotting and visualization\n",
    "import matplotlib.pyplot as plt\n",
    "\n",
    "# Importing the train_test_split function from scikit-learn for splitting the data into training and testing sets\n",
    "from sklearn.model_selection import train_test_split\n",
    "\n",
    "# Importing the shuffle function from scikit-learn for shuffling the dataset\n",
    "from sklearn.utils import shuffle\n",
    "\n",
    "# Importing the ImageDataGenerator class from TensorFlow Keras for data augmentation\n",
    "from tensorflow.keras.preprocessing.image import ImageDataGenerator\n",
    "\n",
    "# Importing the Sequential class from TensorFlow Keras to initialize a sequential model\n",
    "from tensorflow.keras.models import Sequential\n",
    "\n",
    "# Importing various layers from TensorFlow Keras for building the neural network\n",
    "from tensorflow.keras.layers import Conv2D, MaxPooling2D, Flatten, Dense, Dropout\n",
    "\n",
    "# Importing the EarlyStopping callback from TensorFlow Keras to stop training when a monitored metric has stopped improving\n",
    "from tensorflow.keras.callbacks import EarlyStopping\n",
    "\n"
   ]
  },
  {
   "cell_type": "markdown",
   "id": "e27d6041-5906-4dc3-922a-a14e7cbeb8a9",
   "metadata": {},
   "source": [
    "## 1.2 Setting Figure Size"
   ]
  },
  {
   "cell_type": "code",
   "execution_count": 2,
   "id": "5c421abc-76b8-47e5-a6fc-2f0801fb2f2d",
   "metadata": {},
   "outputs": [],
   "source": [
    "# set the plot size using 'rcParams'\n",
    "# once the plot size is set using 'rcParams', it sets the size of all the forthcoming plots in the file\n",
    "# pass width and height in inches to 'figure.figsize' \n",
    "plt.rcParams['figure.figsize'] = [15,8]"
   ]
  },
  {
   "cell_type": "markdown",
   "id": "8226deae-125b-4510-b2af-0ecf6cbe8b6a",
   "metadata": {},
   "source": [
    "## 1.3 Setting Options"
   ]
  },
  {
   "cell_type": "code",
   "execution_count": 3,
   "id": "ca495731-a5ad-4cdf-983c-47bea745f753",
   "metadata": {},
   "outputs": [],
   "source": [
    "# display all columns of the dataframe\n",
    "pd.options.display.max_columns = None\n",
    "\n",
    "# display all rows of the dataframe\n",
    "pd.options.display.max_rows = None\n",
    "\n",
    "# use below code to convert the 'exponential' values to float\n",
    "np.set_printoptions(suppress=True)"
   ]
  },
  {
   "cell_type": "markdown",
   "id": "94227caf-978c-4a18-9754-44503d069dbf",
   "metadata": {},
   "source": [
    "# 2. Loading Data"
   ]
  },
  {
   "cell_type": "code",
   "execution_count": 4,
   "id": "8b2028f6-69d4-4bb7-a217-15f0a80927f4",
   "metadata": {},
   "outputs": [],
   "source": [
    "#Let's name the dataset as train_data\n",
    "train_data = pd.read_csv('train.csv')"
   ]
  },
  {
   "cell_type": "code",
   "execution_count": 5,
   "id": "7d54711a-14e8-4531-80ac-05605176a280",
   "metadata": {},
   "outputs": [
    {
     "data": {
      "text/html": [
       "<div>\n",
       "<style scoped>\n",
       "    .dataframe tbody tr th:only-of-type {\n",
       "        vertical-align: middle;\n",
       "    }\n",
       "\n",
       "    .dataframe tbody tr th {\n",
       "        vertical-align: top;\n",
       "    }\n",
       "\n",
       "    .dataframe thead th {\n",
       "        text-align: right;\n",
       "    }\n",
       "</style>\n",
       "<table border=\"1\" class=\"dataframe\">\n",
       "  <thead>\n",
       "    <tr style=\"text-align: right;\">\n",
       "      <th></th>\n",
       "      <th>image_names</th>\n",
       "      <th>emergency_or_not</th>\n",
       "    </tr>\n",
       "  </thead>\n",
       "  <tbody>\n",
       "    <tr>\n",
       "      <th>0</th>\n",
       "      <td>1503.jpg</td>\n",
       "      <td>0</td>\n",
       "    </tr>\n",
       "    <tr>\n",
       "      <th>1</th>\n",
       "      <td>1420.jpg</td>\n",
       "      <td>0</td>\n",
       "    </tr>\n",
       "    <tr>\n",
       "      <th>2</th>\n",
       "      <td>1764.jpg</td>\n",
       "      <td>0</td>\n",
       "    </tr>\n",
       "    <tr>\n",
       "      <th>3</th>\n",
       "      <td>1356.jpg</td>\n",
       "      <td>0</td>\n",
       "    </tr>\n",
       "    <tr>\n",
       "      <th>4</th>\n",
       "      <td>1117.jpg</td>\n",
       "      <td>0</td>\n",
       "    </tr>\n",
       "  </tbody>\n",
       "</table>\n",
       "</div>"
      ],
      "text/plain": [
       "  image_names  emergency_or_not\n",
       "0    1503.jpg                 0\n",
       "1    1420.jpg                 0\n",
       "2    1764.jpg                 0\n",
       "3    1356.jpg                 0\n",
       "4    1117.jpg                 0"
      ]
     },
     "execution_count": 5,
     "metadata": {},
     "output_type": "execute_result"
    }
   ],
   "source": [
    "train_data.head()"
   ]
  },
  {
   "cell_type": "code",
   "execution_count": 6,
   "id": "a2f36fe5-7254-4050-932d-dab5dd332ed3",
   "metadata": {},
   "outputs": [
    {
     "name": "stdout",
     "output_type": "stream",
     "text": [
      "<class 'pandas.core.frame.DataFrame'>\n",
      "RangeIndex: 1646 entries, 0 to 1645\n",
      "Data columns (total 2 columns):\n",
      " #   Column            Non-Null Count  Dtype \n",
      "---  ------            --------------  ----- \n",
      " 0   image_names       1646 non-null   object\n",
      " 1   emergency_or_not  1646 non-null   int64 \n",
      "dtypes: int64(1), object(1)\n",
      "memory usage: 25.8+ KB\n"
     ]
    }
   ],
   "source": [
    "train_data.info()"
   ]
  },
  {
   "cell_type": "markdown",
   "id": "2e9b5179-4b58-44d5-bca4-bb81727e8603",
   "metadata": {},
   "source": [
    "# 3. Data Preprocessing and Analysis"
   ]
  },
  {
   "cell_type": "code",
   "execution_count": 7,
   "id": "3005406d-6bc5-4ed7-b9b1-6661c6db9b3e",
   "metadata": {},
   "outputs": [],
   "source": [
    "#Let's convert the target column to string\n",
    "train_data['emergency_or_not'] = train_data['emergency_or_not'].astype('string') "
   ]
  },
  {
   "cell_type": "code",
   "execution_count": 8,
   "id": "be2becb9-7ac5-4877-9f04-5d5890ded01c",
   "metadata": {},
   "outputs": [
    {
     "name": "stdout",
     "output_type": "stream",
     "text": [
      "<class 'pandas.core.frame.DataFrame'>\n",
      "RangeIndex: 1646 entries, 0 to 1645\n",
      "Data columns (total 2 columns):\n",
      " #   Column            Non-Null Count  Dtype \n",
      "---  ------            --------------  ----- \n",
      " 0   image_names       1646 non-null   object\n",
      " 1   emergency_or_not  1646 non-null   string\n",
      "dtypes: object(1), string(1)\n",
      "memory usage: 25.8+ KB\n"
     ]
    }
   ],
   "source": [
    "train_data.info()"
   ]
  },
  {
   "cell_type": "code",
   "execution_count": 9,
   "id": "3dbd8a58-fdf8-4f09-b2eb-0e9d5cb20383",
   "metadata": {},
   "outputs": [
    {
     "data": {
      "text/plain": [
       "emergency_or_not\n",
       "0    965\n",
       "1    681\n",
       "Name: count, dtype: Int64"
      ]
     },
     "execution_count": 9,
     "metadata": {},
     "output_type": "execute_result"
    }
   ],
   "source": [
    "train_data['emergency_or_not'].value_counts()"
   ]
  },
  {
   "cell_type": "code",
   "execution_count": 10,
   "id": "18adca1f-69ff-470f-a81f-64a79ac9b96c",
   "metadata": {},
   "outputs": [],
   "source": [
    "# Data preprocessing\n",
    "\n",
    "# Images are stored in a folder named 'train'\n",
    "# Create a list of image paths by concatenating the folder name with image file names from the 'train_data' DataFrame\n",
    "image_paths = ['train/' + img_name for img_name in train_data['image_names']]\n",
    "\n",
    "# Extract the labels for each image from the 'train_data' DataFrame\n",
    "labels = train_data['emergency_or_not']"
   ]
  },
  {
   "cell_type": "code",
   "execution_count": 11,
   "id": "00bf9b63-d293-4a0a-85f3-a6a3433fae10",
   "metadata": {},
   "outputs": [],
   "source": [
    "# Split the data into training and validation sets\n",
    "\n",
    "# Use train_test_split to split the image paths and labels into training and validation sets\n",
    "# test_size=0.2 means 20% of the data will be used for validation\n",
    "# random_state=42 ensures reproducibility of the split\n",
    "X_train, X_val, y_train, y_val = train_test_split(image_paths, labels, test_size=0.2, random_state=42)"
   ]
  },
  {
   "cell_type": "markdown",
   "id": "8ee01905-b0e9-4227-b5aa-81dbf2ff9ea7",
   "metadata": {},
   "source": [
    "## Data Augmentation"
   ]
  },
  {
   "cell_type": "code",
   "execution_count": 12,
   "id": "f25ec430-bad1-41f5-929b-15c4e2256018",
   "metadata": {},
   "outputs": [
    {
     "name": "stdout",
     "output_type": "stream",
     "text": [
      "Found 1316 validated image filenames belonging to 2 classes.\n",
      "Found 330 validated image filenames belonging to 2 classes.\n"
     ]
    }
   ],
   "source": [
    "# Initialize ImageDataGenerator for training data with rescaling\n",
    "# rescale=1./255 scales the pixel values to the range [0, 1]\n",
    "# We should not perform data augmentation on the test or validation data\n",
    "train_datagen = ImageDataGenerator(rescale=1./255)\n",
    "\n",
    "# Initialize ImageDataGenerator for validation data with rescaling\n",
    "# Again, we should not perform data augmentation on the validation data\n",
    "val_datagen = ImageDataGenerator(rescale=1./255)\n",
    "\n",
    "# Create a data generator for the training set\n",
    "# flow_from_dataframe generates batches of tensor image data with real-time data augmentation\n",
    "# dataframe contains image paths and corresponding labels\n",
    "# x_col specifies the column in the dataframe that contains the image paths\n",
    "# y_col specifies the column that contains the labels\n",
    "# target_size resizes all images to 224x224 pixels\n",
    "# batch_size specifies the number of images to be yielded from the generator per batch\n",
    "# class_mode='binary' because we have binary classification (emergency or non-emergency)\n",
    "train_generator = train_datagen.flow_from_dataframe(dataframe=pd.DataFrame({'image_paths': X_train, 'labels': y_train}),\n",
    "                                                    x_col='image_paths', y_col='labels',\n",
    "                                                    target_size=(224, 224), batch_size=32, class_mode='binary')\n",
    "\n",
    "# Create a data generator for the validation set using the same parameters as for the training set\n",
    "val_generator = val_datagen.flow_from_dataframe(dataframe=pd.DataFrame({'image_paths': X_val, 'labels': y_val}),\n",
    "                                                x_col='image_paths', y_col='labels',\n",
    "                                                target_size=(224, 224), batch_size=32, class_mode='binary')\n"
   ]
  },
  {
   "cell_type": "markdown",
   "id": "ca629a4d-ef28-4112-b7e6-2548bf458089",
   "metadata": {},
   "source": [
    "# 4. Model Building"
   ]
  },
  {
   "cell_type": "markdown",
   "id": "77c17a97-a9e6-4012-b6a5-2685b77c1879",
   "metadata": {},
   "source": [
    "## 4.1 Using Custom Model"
   ]
  },
  {
   "cell_type": "code",
   "execution_count": 14,
   "id": "692a3b4a-46dc-43e3-a30c-28e6178f5644",
   "metadata": {},
   "outputs": [
    {
     "name": "stderr",
     "output_type": "stream",
     "text": [
      "2024-07-12 00:22:00.737471: I tensorflow/core/platform/cpu_feature_guard.cc:193] This TensorFlow binary is optimized with oneAPI Deep Neural Network Library (oneDNN) to use the following CPU instructions in performance-critical operations:  SSE4.1 SSE4.2\n",
      "To enable them in other operations, rebuild TensorFlow with the appropriate compiler flags.\n"
     ]
    }
   ],
   "source": [
    "# Define the model architecture\n",
    "\n",
    "# Initialize a Sequential model\n",
    "custom_model = Sequential([\n",
    "    # Add a 2D convolutional layer with 32 filters, a 3x3 kernel, ReLU activation, and input shape 224x224x3 (for RGB images)\n",
    "    Conv2D(32, (3, 3), activation='relu', input_shape=(224, 224, 3)),\n",
    "    \n",
    "    # Add a 2D max pooling layer with a 2x2 pool size to reduce the spatial dimensions\n",
    "    MaxPooling2D((2, 2)),\n",
    "    \n",
    "    # Add another 2D convolutional layer with 64 filters, a 3x3 kernel, and ReLU activation\n",
    "    Conv2D(64, (3, 3), activation='relu'),\n",
    "    \n",
    "    # Add another 2D max pooling layer with a 2x2 pool size\n",
    "    MaxPooling2D((2, 2)),\n",
    "    \n",
    "    # Add another 2D convolutional layer with 128 filters, a 3x3 kernel, and ReLU activation\n",
    "    Conv2D(128, (3, 3), activation='relu'),\n",
    "    \n",
    "    # Add another 2D max pooling layer with a 2x2 pool size\n",
    "    MaxPooling2D((2, 2)),\n",
    "    \n",
    "    # Flatten the 3D output to 1D for the fully connected layers\n",
    "    Flatten(),\n",
    "    \n",
    "    # Add a fully connected (dense) layer with 128 units and ReLU activation\n",
    "    Dense(128, activation='relu'),\n",
    "    \n",
    "    # Add a dropout layer with a 50% dropout rate to prevent overfitting\n",
    "    Dropout(0.5),\n",
    "    \n",
    "    # Add the output layer with 1 unit and sigmoid activation for binary classification\n",
    "    Dense(1, activation='sigmoid')\n",
    "])"
   ]
  },
  {
   "cell_type": "code",
   "execution_count": 15,
   "id": "3f6cff84-2d06-4115-9753-af648e327bc2",
   "metadata": {},
   "outputs": [],
   "source": [
    "# Compile the model\n",
    "\n",
    "# Compile the model with the following parameters:\n",
    "# optimizer='adam': Use the Adam optimizer for training\n",
    "# loss='binary_crossentropy': Use binary cross-entropy as the loss function since this is a binary classification problem\n",
    "# metrics=['accuracy']: Evaluate the model using accuracy as the metric\n",
    "custom_model.compile(optimizer='adam', loss='binary_crossentropy', metrics=['accuracy'])"
   ]
  },
  {
   "cell_type": "code",
   "execution_count": null,
   "id": "edba54d7-ac61-4a6b-893a-036f1348a021",
   "metadata": {},
   "outputs": [
    {
     "name": "stdout",
     "output_type": "stream",
     "text": [
      "Epoch 1/50\n",
      "41/41 [==============================] - 38s 898ms/step - loss: 0.6861 - accuracy: 0.6682 - val_loss: 0.6100 - val_accuracy: 0.6875\n",
      "Epoch 2/50\n",
      "41/41 [==============================] - 41s 992ms/step - loss: 0.4812 - accuracy: 0.7796 - val_loss: 0.4957 - val_accuracy: 0.7656\n",
      "Epoch 3/50\n",
      "41/41 [==============================] - 43s 1s/step - loss: 0.3977 - accuracy: 0.8263 - val_loss: 0.4341 - val_accuracy: 0.8031\n",
      "Epoch 4/50\n",
      "41/41 [==============================] - 48s 1s/step - loss: 0.3087 - accuracy: 0.8699 - val_loss: 0.3723 - val_accuracy: 0.8281\n",
      "Epoch 5/50\n",
      "41/41 [==============================] - 48s 1s/step - loss: 0.2317 - accuracy: 0.9081 - val_loss: 0.4254 - val_accuracy: 0.7969\n",
      "Epoch 6/50\n",
      "36/41 [=========================>....] - ETA: 5s - loss: 0.1417 - accuracy: 0.9457"
     ]
    }
   ],
   "source": [
    "# Train the model\n",
    "\n",
    "# Set up early stopping to monitor the validation loss and stop training if it doesn't improve for 5 consecutive epochs\n",
    "# restore_best_weights=True ensures that the model will restore the weights from the epoch with the best validation loss\n",
    "early_stopping = EarlyStopping(monitor='val_loss', patience=5, restore_best_weights=True)\n",
    "\n",
    "# Train the model using the fit method\n",
    "# train_generator: The training data generator\n",
    "# steps_per_epoch: The number of steps (batches of samples) to yield from the generator before declaring one epoch finished\n",
    "# epochs: The number of epochs to train the model\n",
    "# validation_data: The validation data generator\n",
    "# validation_steps: The number of steps (batches of samples) to yield from the validation generator\n",
    "# callbacks: A list of callback instances to apply during training (here we use early stopping)\n",
    "history = custom_model.fit(train_generator, steps_per_epoch=len(X_train)//32, epochs=50,\n",
    "                           validation_data=val_generator, validation_steps=len(X_val)//32,\n",
    "                           callbacks=[early_stopping])"
   ]
  },
  {
   "cell_type": "code",
   "execution_count": null,
   "id": "28156444-7c1b-4a95-9c26-42b47a7451f3",
   "metadata": {},
   "outputs": [],
   "source": []
  },
  {
   "cell_type": "code",
   "execution_count": null,
   "id": "906ed909-f703-4448-8e9e-aa0e9435a58e",
   "metadata": {},
   "outputs": [],
   "source": []
  },
  {
   "cell_type": "code",
   "execution_count": null,
   "id": "440c6bbc-63fe-492a-ac03-30e19bbb5d01",
   "metadata": {},
   "outputs": [],
   "source": []
  },
  {
   "cell_type": "code",
   "execution_count": null,
   "id": "15fb32a7-87f6-47e9-bdb4-c5cd68cc64fa",
   "metadata": {},
   "outputs": [],
   "source": []
  },
  {
   "cell_type": "code",
   "execution_count": null,
   "id": "9f2dba94-a0eb-49d0-a054-521a968d1e0d",
   "metadata": {},
   "outputs": [],
   "source": []
  },
  {
   "cell_type": "code",
   "execution_count": null,
   "id": "e8c02e6e-c02e-4742-8c4e-4dbbb7a7aeb2",
   "metadata": {},
   "outputs": [],
   "source": []
  },
  {
   "cell_type": "code",
   "execution_count": 24,
   "id": "7971e5e5-206b-463c-9b50-39256fb0431a",
   "metadata": {},
   "outputs": [
    {
     "name": "stdout",
     "output_type": "stream",
     "text": [
      "Epoch 1/50\n",
      "41/41 [==============================] - 36s 835ms/step - loss: 0.7574 - accuracy: 0.6199 - val_loss: 0.5506 - val_accuracy: 0.7125\n",
      "Epoch 2/50\n",
      "41/41 [==============================] - 41s 990ms/step - loss: 0.5358 - accuracy: 0.7516 - val_loss: 0.5563 - val_accuracy: 0.7312\n",
      "Epoch 3/50\n",
      "41/41 [==============================] - 41s 1s/step - loss: 0.4939 - accuracy: 0.7718 - val_loss: 0.4707 - val_accuracy: 0.7844\n",
      "Epoch 4/50\n",
      "41/41 [==============================] - 43s 1s/step - loss: 0.4182 - accuracy: 0.8185 - val_loss: 0.4731 - val_accuracy: 0.7781\n",
      "Epoch 5/50\n",
      "41/41 [==============================] - 43s 1s/step - loss: 0.3617 - accuracy: 0.8388 - val_loss: 0.4331 - val_accuracy: 0.8156\n",
      "Epoch 6/50\n",
      "41/41 [==============================] - 44s 1s/step - loss: 0.3015 - accuracy: 0.8715 - val_loss: 0.3969 - val_accuracy: 0.8188\n",
      "Epoch 7/50\n",
      "41/41 [==============================] - 45s 1s/step - loss: 0.2440 - accuracy: 0.9034 - val_loss: 0.5117 - val_accuracy: 0.7875\n",
      "Epoch 8/50\n",
      "41/41 [==============================] - 51s 1s/step - loss: 0.1823 - accuracy: 0.9299 - val_loss: 0.5134 - val_accuracy: 0.8062\n",
      "Epoch 9/50\n",
      "41/41 [==============================] - 52s 1s/step - loss: 0.1416 - accuracy: 0.9424 - val_loss: 0.7401 - val_accuracy: 0.7531\n",
      "Epoch 10/50\n",
      "41/41 [==============================] - 44s 1s/step - loss: 0.1167 - accuracy: 0.9517 - val_loss: 0.7226 - val_accuracy: 0.8156\n",
      "Epoch 11/50\n",
      "41/41 [==============================] - 55s 1s/step - loss: 0.0944 - accuracy: 0.9642 - val_loss: 0.6245 - val_accuracy: 0.8000\n"
     ]
    }
   ],
   "source": [
    "# Train the model\n",
    "early_stopping = EarlyStopping(monitor='val_loss', patience=5, restore_best_weights=True)\n",
    "history = custom_model.fit(train_generator, steps_per_epoch=len(X_train)//32, epochs=50,\n",
    "                    validation_data=val_generator, validation_steps=len(X_val)//32,\n",
    "                    callbacks=[early_stopping])"
   ]
  },
  {
   "cell_type": "code",
   "execution_count": null,
   "id": "4a496f10-d1ed-4600-a755-bfb17df7bf89",
   "metadata": {},
   "outputs": [],
   "source": []
  },
  {
   "cell_type": "code",
   "execution_count": 25,
   "id": "a134c601-df51-4608-a034-9c2b6f03eadc",
   "metadata": {},
   "outputs": [
    {
     "data": {
      "image/png": "[encoded data removed]",
      "text/plain": [
       "<Figure size 1200x600 with 2 Axes>"
      ]
     },
     "metadata": {},
     "output_type": "display_data"
    }
   ],
   "source": [
    "# Plot training history\n",
    "plt.figure(figsize=(12, 6))\n",
    "plt.subplot(1, 2, 1)\n",
    "plt.plot(history.history['loss'], label='Training Loss')\n",
    "plt.plot(history.history['val_loss'], label='Validation Loss')\n",
    "plt.xlabel('Epoch')\n",
    "plt.ylabel('Loss')\n",
    "plt.legend()\n",
    "plt.subplot(1, 2, 2)\n",
    "plt.plot(history.history['accuracy'], label='Training Accuracy')\n",
    "plt.plot(history.history['val_accuracy'], label='Validation Accuracy')\n",
    "plt.xlabel('Epoch')\n",
    "plt.ylabel('Accuracy')\n",
    "plt.legend()\n",
    "plt.show()"
   ]
  },
  {
   "cell_type": "code",
   "execution_count": 26,
   "id": "090b4bc1-cdc0-46c7-bca3-4ecfa050409a",
   "metadata": {},
   "outputs": [
    {
     "name": "stdout",
     "output_type": "stream",
     "text": [
      "11/11 [==============================] - 4s 349ms/step - loss: 0.4012 - accuracy: 0.8152\n",
      "Validation Loss: 0.4011639356613159\n",
      "Validation Accuracy: 0.8151515126228333\n"
     ]
    }
   ],
   "source": [
    "# Evaluate the model on validation data\n",
    "loss, accuracy = custom_model.evaluate(val_generator)\n",
    "print(\"Validation Loss:\", loss)\n",
    "print(\"Validation Accuracy:\", accuracy)\n"
   ]
  },
  {
   "cell_type": "markdown",
   "id": "79e3363e-05cd-4925-bf3f-3a33945ba5c4",
   "metadata": {},
   "source": [
    "## VGG16 Model"
   ]
  },
  {
   "cell_type": "code",
   "execution_count": 9,
   "id": "4a08ecac-cb72-4412-89c4-727c8f9f19f9",
   "metadata": {},
   "outputs": [],
   "source": [
    "from tensorflow.keras.applications import VGG16\n",
    "from tensorflow.keras.models import Sequential\n",
    "from tensorflow.keras.layers import Dense, Flatten, Dropout"
   ]
  },
  {
   "cell_type": "code",
   "execution_count": 10,
   "id": "eeceb51b-26f8-4e1d-97bf-ca7f913e15f6",
   "metadata": {},
   "outputs": [],
   "source": [
    "from tensorflow.keras.optimizers.legacy import Adam"
   ]
  },
  {
   "cell_type": "code",
   "execution_count": 11,
   "id": "cc32e2a4-841c-4c87-9ce2-2fb5a148a425",
   "metadata": {},
   "outputs": [
    {
     "name": "stdout",
     "output_type": "stream",
     "text": [
      "Downloading data from https://storage.googleapis.com/tensorflow/keras-applications/vgg16/vgg16_weights_tf_dim_ordering_tf_kernels_notop.h5\n"
     ]
    },
    {
     "name": "stderr",
     "output_type": "stream",
     "text": [
      "2024-05-17 01:31:02.017108: I tensorflow/core/platform/cpu_feature_guard.cc:193] This TensorFlow binary is optimized with oneAPI Deep Neural Network Library (oneDNN) to use the following CPU instructions in performance-critical operations:  SSE4.1 SSE4.2\n",
      "To enable them in other operations, rebuild TensorFlow with the appropriate compiler flags.\n"
     ]
    },
    {
     "name": "stdout",
     "output_type": "stream",
     "text": [
      "58889256/58889256 [==============================] - 6s 0us/step\n"
     ]
    }
   ],
   "source": [
    "# Load VGG16 model pre-trained on ImageNet without the top layer\n",
    "base_model = VGG16(weights='imagenet', include_top=False, input_shape=(224, 224, 3))"
   ]
  },
  {
   "cell_type": "code",
   "execution_count": null,
   "id": "2e51cdb0-3b96-40cc-b027-8c1f309714c7",
   "metadata": {},
   "outputs": [],
   "source": []
  },
  {
   "cell_type": "code",
   "execution_count": 12,
   "id": "ba61ac2c-f105-45ec-bb5b-4518616b5e03",
   "metadata": {},
   "outputs": [],
   "source": [
    "# Freeze the convolutional base\n",
    "for layer in base_model.layers:\n",
    "    layer.trainable = False"
   ]
  },
  {
   "cell_type": "code",
   "execution_count": 13,
   "id": "2765446b-ef6d-4ed0-bd61-9d27e765aab4",
   "metadata": {},
   "outputs": [],
   "source": [
    "# Create the model architecture by adding custom top layers\n",
    "vgg16_model = Sequential([\n",
    "    base_model,\n",
    "    Flatten(),\n",
    "    Dense(256, activation='relu'),\n",
    "    Dropout(0.5),\n",
    "    Dense(1, activation='sigmoid')\n",
    "])"
   ]
  },
  {
   "cell_type": "code",
   "execution_count": 14,
   "id": "cf48c0c9-5a35-4722-aaeb-f3642f6b06a0",
   "metadata": {},
   "outputs": [],
   "source": [
    "# Compile the model\n",
    "vgg16_model.compile(optimizer='adam', loss='binary_crossentropy', metrics=['accuracy'])"
   ]
  },
  {
   "cell_type": "code",
   "execution_count": 15,
   "id": "8a72b244-7247-4554-a772-6aee6fbd5de8",
   "metadata": {},
   "outputs": [
    {
     "name": "stdout",
     "output_type": "stream",
     "text": [
      "Epoch 1/50\n",
      "41/41 [==============================] - 373s 9s/step - loss: 0.9685 - accuracy: 0.7710 - val_loss: 0.2957 - val_accuracy: 0.8781\n",
      "Epoch 2/50\n",
      "41/41 [==============================] - 7581s 189s/step - loss: 0.2472 - accuracy: 0.9058 - val_loss: 0.2278 - val_accuracy: 0.9031\n",
      "Epoch 3/50\n",
      "41/41 [==============================] - 38687s 943s/step - loss: 0.2010 - accuracy: 0.9252 - val_loss: 0.1985 - val_accuracy: 0.9219\n",
      "Epoch 4/50\n",
      "41/41 [==============================] - 25364s 610s/step - loss: 0.1351 - accuracy: 0.9447 - val_loss: 0.2102 - val_accuracy: 0.9219\n",
      "Epoch 5/50\n",
      "41/41 [==============================] - 9527s 238s/step - loss: 0.0872 - accuracy: 0.9766 - val_loss: 0.1896 - val_accuracy: 0.9281\n",
      "Epoch 6/50\n",
      "41/41 [==============================] - 436s 11s/step - loss: 0.0666 - accuracy: 0.9798 - val_loss: 0.2236 - val_accuracy: 0.9062\n",
      "Epoch 7/50\n",
      "41/41 [==============================] - 455s 11s/step - loss: 0.0714 - accuracy: 0.9743 - val_loss: 0.2173 - val_accuracy: 0.9281\n",
      "Epoch 8/50\n",
      "41/41 [==============================] - 458s 11s/step - loss: 0.0380 - accuracy: 0.9883 - val_loss: 0.2778 - val_accuracy: 0.9031\n",
      "Epoch 9/50\n",
      "41/41 [==============================] - 472s 12s/step - loss: 0.0444 - accuracy: 0.9883 - val_loss: 0.2746 - val_accuracy: 0.9094\n",
      "Epoch 10/50\n",
      "41/41 [==============================] - 535s 13s/step - loss: 0.0269 - accuracy: 0.9953 - val_loss: 0.2789 - val_accuracy: 0.9125\n"
     ]
    }
   ],
   "source": [
    "# Train the model\n",
    "early_stopping = EarlyStopping(monitor='val_loss', patience=5, restore_best_weights=True)\n",
    "history = vgg16_model.fit(train_generator, steps_per_epoch=len(X_train)//32, epochs=50,\n",
    "                    validation_data=val_generator, validation_steps=len(X_val)//32,\n",
    "                    callbacks=[early_stopping])"
   ]
  },
  {
   "cell_type": "code",
   "execution_count": 34,
   "id": "5414947c-2783-49e5-9be4-c66185c21bdc",
   "metadata": {},
   "outputs": [
    {
     "data": {
      "image/png": "[encoded data removed]",
      "text/plain": [
       "<Figure size 1200x600 with 2 Axes>"
      ]
     },
     "metadata": {},
     "output_type": "display_data"
    }
   ],
   "source": [
    "# Plot training history\n",
    "plt.figure(figsize=(12, 6))\n",
    "plt.subplot(1, 2, 1)\n",
    "plt.plot(history.history['loss'], label='Training Loss')\n",
    "plt.plot(history.history['val_loss'], label='Validation Loss')\n",
    "plt.xlabel('Epoch')\n",
    "plt.ylabel('Loss')\n",
    "plt.legend()\n",
    "plt.subplot(1, 2, 2)\n",
    "plt.plot(history.history['accuracy'], label='Training Accuracy')\n",
    "plt.plot(history.history['val_accuracy'], label='Validation Accuracy')\n",
    "plt.xlabel('Epoch')\n",
    "plt.ylabel('Accuracy')\n",
    "plt.legend()\n",
    "plt.show()"
   ]
  },
  {
   "cell_type": "code",
   "execution_count": 35,
   "id": "7962d20c-aa9d-48a7-81f8-af3a497b1b0f",
   "metadata": {},
   "outputs": [
    {
     "name": "stdout",
     "output_type": "stream",
     "text": [
      "11/11 [==============================] - 79s 7s/step - loss: 0.1980 - accuracy: 0.9182\n",
      "Validation Loss: 0.19800449907779694\n",
      "Validation Accuracy: 0.918181836605072\n"
     ]
    }
   ],
   "source": [
    "# Evaluate the model on validation data\n",
    "loss, accuracy = vgg16_model.evaluate(val_generator)\n",
    "print(\"Validation Loss:\", loss)\n",
    "print(\"Validation Accuracy:\", accuracy)\n"
   ]
  },
  {
   "cell_type": "code",
   "execution_count": 36,
   "id": "842d785b-67f6-4269-a12a-fae78674d8d3",
   "metadata": {},
   "outputs": [],
   "source": [
    "import tensorflow as tf"
   ]
  },
  {
   "cell_type": "code",
   "execution_count": 37,
   "id": "3ec0965e-e06e-494b-b3aa-c37448edaf81",
   "metadata": {},
   "outputs": [
    {
     "data": {
      "text/plain": [
       "'2.15.0'"
      ]
     },
     "execution_count": 37,
     "metadata": {},
     "output_type": "execute_result"
    }
   ],
   "source": [
    "tf.__version__"
   ]
  },
  {
   "cell_type": "code",
   "execution_count": 38,
   "id": "bf4dbabe-793e-4e00-8596-008e056e1868",
   "metadata": {},
   "outputs": [
    {
     "name": "stderr",
     "output_type": "stream",
     "text": [
      "C:\\Users\\JPoddar\\AppData\\Local\\anaconda3\\envs\\DL10\\lib\\site-packages\\keras\\src\\engine\\training.py:3103: UserWarning: You are saving your model as an HDF5 file via `model.save()`. This file format is considered legacy. We recommend using instead the native Keras format, e.g. `model.save('my_model.keras')`.\n",
      "  saving_api.save_model(\n"
     ]
    }
   ],
   "source": [
    "#Saving VGG16 model as h5 file\n",
    "\n",
    "#from tensorflow.keras.models import load_model\n",
    "#vgg16_model.save('model_vgg16.h5')\n",
    "import pickle\n",
    "vgg16_model.save('model_vgg16_pkl.pkl')"
   ]
  },
  {
   "cell_type": "code",
   "execution_count": 1,
   "id": "8033f47b-b042-424c-80f1-c8b93241800d",
   "metadata": {},
   "outputs": [
    {
     "name": "stdout",
     "output_type": "stream",
     "text": [
      "Collecting flask\n",
      "  Downloading flask-3.0.3-py3-none-any.whl.metadata (3.2 kB)\n",
      "Requirement already satisfied: Werkzeug>=3.0.0 in c:\\users\\jpoddar\\appdata\\local\\anaconda3\\envs\\dl10\\lib\\site-packages (from flask) (3.0.1)\n",
      "Requirement already satisfied: Jinja2>=3.1.2 in c:\\users\\jpoddar\\appdata\\local\\anaconda3\\envs\\dl10\\lib\\site-packages (from flask) (3.1.2)\n",
      "Collecting itsdangerous>=2.1.2 (from flask)\n",
      "  Downloading itsdangerous-2.2.0-py3-none-any.whl.metadata (1.9 kB)\n",
      "Requirement already satisfied: click>=8.1.3 in c:\\users\\jpoddar\\appdata\\local\\anaconda3\\envs\\dl10\\lib\\site-packages (from flask) (8.1.7)\n",
      "Collecting blinker>=1.6.2 (from flask)\n",
      "  Downloading blinker-1.8.2-py3-none-any.whl.metadata (1.6 kB)\n",
      "Requirement already satisfied: colorama in c:\\users\\jpoddar\\appdata\\local\\anaconda3\\envs\\dl10\\lib\\site-packages (from click>=8.1.3->flask) (0.4.6)\n",
      "Requirement already satisfied: MarkupSafe>=2.0 in c:\\users\\jpoddar\\appdata\\local\\anaconda3\\envs\\dl10\\lib\\site-packages (from Jinja2>=3.1.2->flask) (2.1.3)\n",
      "Downloading flask-3.0.3-py3-none-any.whl (101 kB)\n",
      "   ---------------------------------------- 0.0/101.7 kB ? eta -:--:--\n",
      "   ---- ----------------------------------- 10.2/101.7 kB ? eta -:--:--\n",
      "   ---- ----------------------------------- 10.2/101.7 kB ? eta -:--:--\n",
      "   --------------- ----------------------- 41.0/101.7 kB 330.3 kB/s eta 0:00:01\n",
      "   ----------------------------------- --- 92.2/101.7 kB 525.1 kB/s eta 0:00:01\n",
      "   -------------------------------------- 101.7/101.7 kB 489.3 kB/s eta 0:00:00\n",
      "Downloading blinker-1.8.2-py3-none-any.whl (9.5 kB)\n",
      "Downloading itsdangerous-2.2.0-py3-none-any.whl (16 kB)\n",
      "Installing collected packages: itsdangerous, blinker, flask\n",
      "Successfully installed blinker-1.8.2 flask-3.0.3 itsdangerous-2.2.0\n"
     ]
    },
    {
     "name": "stderr",
     "output_type": "stream",
     "text": [
      "DEPRECATION: textract 1.6.5 has a non-standard dependency specifier extract-msg<=0.29.*. pip 24.0 will enforce this behaviour change. A possible replacement is to upgrade to a newer version of textract or contact the author to suggest that they release a version with a conforming dependency specifiers. Discussion can be found at https://github.com/pypa/pip/issues/12063\n"
     ]
    }
   ],
   "source": [
    "!pip install flask"
   ]
  },
  {
   "cell_type": "code",
   "execution_count": 4,
   "id": "146767bd-5e32-47c0-8a67-19738059c030",
   "metadata": {},
   "outputs": [
    {
     "name": "stdout",
     "output_type": "stream",
     "text": [
      "Requirement already satisfied: Werkzeug in c:\\users\\jpoddar\\appdata\\local\\anaconda3\\envs\\dl10\\lib\\site-packages (3.0.1)\n",
      "Requirement already satisfied: MarkupSafe>=2.1.1 in c:\\users\\jpoddar\\appdata\\local\\anaconda3\\envs\\dl10\\lib\\site-packages (from Werkzeug) (2.1.3)\n"
     ]
    },
    {
     "name": "stderr",
     "output_type": "stream",
     "text": [
      "DEPRECATION: textract 1.6.5 has a non-standard dependency specifier extract-msg<=0.29.*. pip 24.0 will enforce this behaviour change. A possible replacement is to upgrade to a newer version of textract or contact the author to suggest that they release a version with a conforming dependency specifiers. Discussion can be found at https://github.com/pypa/pip/issues/12063\n"
     ]
    }
   ],
   "source": [
    "!pip install Werkzeug"
   ]
  },
  {
   "cell_type": "code",
   "execution_count": 1,
   "id": "53e06fc9-d6c1-4d08-a201-c4ac9b9abb96",
   "metadata": {},
   "outputs": [
    {
     "name": "stdout",
     "output_type": "stream",
     "text": [
      "Note: you may need to restart the kernel to use updated packages.\n"
     ]
    }
   ],
   "source": [
    "pip freeze > requirements.txt"
   ]
  },
  {
   "cell_type": "code",
   "execution_count": 2,
   "id": "039f8e20-8e88-4af4-b6d1-e6bf8451ab69",
   "metadata": {},
   "outputs": [
    {
     "name": "stdout",
     "output_type": "stream",
     "text": [
      "Requirement already satisfied: pip in /Users/jpoddar/opt/anaconda3/lib/python3.8/site-packages (23.3.2)\n",
      "Collecting pip\n",
      "  Downloading pip-24.0-py3-none-any.whl.metadata (3.6 kB)\n",
      "Downloading pip-24.0-py3-none-any.whl (2.1 MB)\n",
      "\u001b[2K   \u001b[90m━━━━━━━━━━━━━━━━━━━━━━━━━━━━━━━━━━━━━━━━\u001b[0m \u001b[32m2.1/2.1 MB\u001b[0m \u001b[31m15.2 MB/s\u001b[0m eta \u001b[36m0:00:00\u001b[0ma \u001b[36m0:00:01\u001b[0m\n",
      "\u001b[?25h\u001b[33mDEPRECATION: pyodbc 4.0.0-unsupported has a non-standard version number. pip 24.0 will enforce this behaviour change. A possible replacement is to upgrade to a newer version of pyodbc or contact the author to suggest that they release a version with a conforming version number. Discussion can be found at https://github.com/pypa/pip/issues/12063\u001b[0m\u001b[33m\n",
      "\u001b[0mInstalling collected packages: pip\n",
      "  Attempting uninstall: pip\n",
      "    Found existing installation: pip 23.3.2\n",
      "    Uninstalling pip-23.3.2:\n",
      "      Successfully uninstalled pip-23.3.2\n",
      "Successfully installed pip-24.0\n"
     ]
    }
   ],
   "source": [
    "!pip install -U pip"
   ]
  },
  {
   "cell_type": "code",
   "execution_count": 4,
   "id": "9c6afe09-7523-483b-a4ab-1985810e9bd4",
   "metadata": {},
   "outputs": [
    {
     "name": "stderr",
     "output_type": "stream",
     "text": [
      "2024-05-21 01:46:32.741557: I tensorflow/core/platform/cpu_feature_guard.cc:193] This TensorFlow binary is optimized with oneAPI Deep Neural Network Library (oneDNN) to use the following CPU instructions in performance-critical operations:  SSE4.1 SSE4.2\n",
      "To enable them in other operations, rebuild TensorFlow with the appropriate compiler flags.\n"
     ]
    }
   ],
   "source": [
    "import tensorflow as tf"
   ]
  },
  {
   "cell_type": "code",
   "execution_count": 5,
   "id": "34593798-32d9-4be9-bc99-c6b8d0205c61",
   "metadata": {},
   "outputs": [
    {
     "data": {
      "text/plain": [
       "'2.11.0'"
      ]
     },
     "execution_count": 5,
     "metadata": {},
     "output_type": "execute_result"
    }
   ],
   "source": [
    "tf.__version__"
   ]
  },
  {
   "cell_type": "code",
   "execution_count": 7,
   "id": "49ab8f90-6a5c-4b6b-83e4-731e3c46357f",
   "metadata": {},
   "outputs": [],
   "source": [
    "import numpy as np"
   ]
  },
  {
   "cell_type": "code",
   "execution_count": 8,
   "id": "0b99c170-8255-4c90-a08e-a8fe20c0d84e",
   "metadata": {},
   "outputs": [
    {
     "data": {
      "text/plain": [
       "'1.24.3'"
      ]
     },
     "execution_count": 8,
     "metadata": {},
     "output_type": "execute_result"
    }
   ],
   "source": [
    "np.__version__"
   ]
  },
  {
   "cell_type": "code",
   "execution_count": null,
   "id": "47875256-95aa-45bc-80e4-24b0ff2596fc",
   "metadata": {},
   "outputs": [],
   "source": []
  }
 ],
 "metadata": {
  "kernelspec": {
   "display_name": "Python 3 (ipykernel)",
   "language": "python",
   "name": "python3"
  },
  "language_info": {
   "codemirror_mode": {
    "name": "ipython",
    "version": 3
   },
   "file_extension": ".py",
   "mimetype": "text/x-python",
   "name": "python",
   "nbconvert_exporter": "python",
   "pygments_lexer": "ipython3",
   "version": "3.8.18"
  }
 },
 "nbformat": 4,
 "nbformat_minor": 5
}
